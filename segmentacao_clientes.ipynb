{
 "cells": [
  {
   "cell_type": "markdown",
   "metadata": {},
   "source": [
    "<h1 align='center'> Segmentação de Clientes de um Atacado por Perfil de Compra </h1>"
   ]
  },
  {
   "cell_type": "code",
   "execution_count": 8,
   "metadata": {},
   "outputs": [
    {
     "data": {
      "text/html": [
       "<script>\n",
       "code_show=true; function code_toggle() { \n",
       "   if (code_show){ $('div.input').hide(); \n",
       "   } else {$('div.input').show();} code_show = !code_show} $( document ).ready(code_toggle); \n",
       "</script>\n",
       "\n",
       "<br>Clique <a href='javascript:code_toggle()'>aqui</a> para mostrar o código."
      ]
     },
     "metadata": {},
     "output_type": "display_data"
    }
   ],
   "source": [
    "oldw <- getOption(\"warn\")\n",
    "options(warn = -1)\n",
    "\n",
    "library(IRdisplay)\n",
    "\n",
    "display_html(\n",
    "\"<script>\n",
    "code_show=true; function code_toggle() { \n",
    "   if (code_show){ $('div.input').hide(); \n",
    "   } else {$('div.input').show();} code_show = !code_show} $( document ).ready(code_toggle); \n",
    "</script>\n",
    "\n",
    "<br>Clique <a href='javascript:code_toggle()'>aqui</a> para mostrar o código.\")"
   ]
  },
  {
   "cell_type": "code",
   "execution_count": 7,
   "metadata": {},
   "outputs": [],
   "source": [
    "library(dplyr)\n",
    "library(data.table)\n",
    "library(tidyr)\n",
    "library(ggplot2)\n",
    "library(stringr)\n",
    "library(factoextra)\n",
    "library(FactoMineR)\n",
    "library(ggthemes)"
   ]
  },
  {
   "cell_type": "markdown",
   "metadata": {},
   "source": [
    "<h3>Objetivo e Dados</h3>"
   ]
  },
  {
   "cell_type": "markdown",
   "metadata": {},
   "source": [
    "O objetivo desta aplicação é criar segmentos de clientes de um Distribuidor por Atacado com aprendizagem não supervisionada, com base no perfil de compra dos clientes. A linguagem utilizada foi o R.\n",
    "\n",
    "A <a href='https://archive.ics.uci.edu/ml/datasets/wholesale+customers'>base utilizada</a> é clássica em aplicações do tipo. Em termos gerais, cada observação mostra o gasto total por categoria de produtos de cada cliente em unidades monetárias. Os segmentos são Produtos Frescos, Laticínios, Mercearia, Congelados, Higiene e Iguarias, como mostra a tabela abaixo."
   ]
  },
  {
   "cell_type": "code",
   "execution_count": 9,
   "metadata": {},
   "outputs": [
    {
     "data": {
      "text/html": [
       "<table>\n",
       "<caption>A data.table: 6 × 6</caption>\n",
       "<thead>\n",
       "\t<tr><th scope=col>Frescos</th><th scope=col>Laticinios</th><th scope=col>Mercearia</th><th scope=col>Congelados</th><th scope=col>Higiene</th><th scope=col>Delicatesse</th></tr>\n",
       "\t<tr><th scope=col>&lt;int&gt;</th><th scope=col>&lt;int&gt;</th><th scope=col>&lt;int&gt;</th><th scope=col>&lt;int&gt;</th><th scope=col>&lt;int&gt;</th><th scope=col>&lt;int&gt;</th></tr>\n",
       "</thead>\n",
       "<tbody>\n",
       "\t<tr><td>12669</td><td>9656</td><td>7561</td><td> 214</td><td>2674</td><td>1338</td></tr>\n",
       "\t<tr><td> 7057</td><td>9810</td><td>9568</td><td>1762</td><td>3293</td><td>1776</td></tr>\n",
       "\t<tr><td> 6353</td><td>8808</td><td>7684</td><td>2405</td><td>3516</td><td>7844</td></tr>\n",
       "\t<tr><td>13265</td><td>1196</td><td>4221</td><td>6404</td><td> 507</td><td>1788</td></tr>\n",
       "\t<tr><td>22615</td><td>5410</td><td>7198</td><td>3915</td><td>1777</td><td>5185</td></tr>\n",
       "\t<tr><td> 9413</td><td>8259</td><td>5126</td><td> 666</td><td>1795</td><td>1451</td></tr>\n",
       "</tbody>\n",
       "</table>\n"
      ],
      "text/latex": [
       "A data.table: 6 × 6\n",
       "\\begin{tabular}{llllll}\n",
       " Frescos & Laticinios & Mercearia & Congelados & Higiene & Delicatesse\\\\\n",
       " <int> & <int> & <int> & <int> & <int> & <int>\\\\\n",
       "\\hline\n",
       "\t 12669 & 9656 & 7561 &  214 & 2674 & 1338\\\\\n",
       "\t  7057 & 9810 & 9568 & 1762 & 3293 & 1776\\\\\n",
       "\t  6353 & 8808 & 7684 & 2405 & 3516 & 7844\\\\\n",
       "\t 13265 & 1196 & 4221 & 6404 &  507 & 1788\\\\\n",
       "\t 22615 & 5410 & 7198 & 3915 & 1777 & 5185\\\\\n",
       "\t  9413 & 8259 & 5126 &  666 & 1795 & 1451\\\\\n",
       "\\end{tabular}\n"
      ],
      "text/markdown": [
       "\n",
       "A data.table: 6 × 6\n",
       "\n",
       "| Frescos &lt;int&gt; | Laticinios &lt;int&gt; | Mercearia &lt;int&gt; | Congelados &lt;int&gt; | Higiene &lt;int&gt; | Delicatesse &lt;int&gt; |\n",
       "|---|---|---|---|---|---|\n",
       "| 12669 | 9656 | 7561 |  214 | 2674 | 1338 |\n",
       "|  7057 | 9810 | 9568 | 1762 | 3293 | 1776 |\n",
       "|  6353 | 8808 | 7684 | 2405 | 3516 | 7844 |\n",
       "| 13265 | 1196 | 4221 | 6404 |  507 | 1788 |\n",
       "| 22615 | 5410 | 7198 | 3915 | 1777 | 5185 |\n",
       "|  9413 | 8259 | 5126 |  666 | 1795 | 1451 |\n",
       "\n"
      ],
      "text/plain": [
       "  Frescos Laticinios Mercearia Congelados Higiene Delicatesse\n",
       "1 12669   9656       7561       214       2674    1338       \n",
       "2  7057   9810       9568      1762       3293    1776       \n",
       "3  6353   8808       7684      2405       3516    7844       \n",
       "4 13265   1196       4221      6404        507    1788       \n",
       "5 22615   5410       7198      3915       1777    5185       \n",
       "6  9413   8259       5126       666       1795    1451       "
      ]
     },
     "metadata": {},
     "output_type": "display_data"
    }
   ],
   "source": [
    "df <- fread(\"customers.csv\", sep=',')\n",
    "df <- subset(df, select = -c(Channel, Region))\n",
    "log_df <- log(df)\n",
    "\n",
    "head(df)\n",
    "# Fitando modelo de K-Means\n",
    "#fviz_nbclust(log_df, kmeans, method = \"silhouette\")\n",
    "k2 <- kmeans(log_df, centers = 2, nstart = 25)\n",
    "\n",
    "\n",
    "result <- data.frame(k2$cluster)\n",
    "df$ind <- seq.int(nrow(df))\n",
    "log_df$ind <- seq.int(nrow(log_df))\n",
    "result$ind <- seq.int(nrow(result))\n",
    "\n",
    "log_df <- merge(log_df, result, by='ind')\n",
    "log_df <- subset(log_df, select=-c(ind))\n",
    "\n",
    "df <- merge(df, result, by='ind')\n",
    "df <- subset(df, select=-c(ind))\n",
    "\n",
    "\n",
    "df_pca <- PCA(log_df[,-7], graph=F)\n",
    "\n",
    "log_df$k2.cluster <- ifelse(log_df$k2.cluster==1,\"Perfil 1\", \"Perfil 2\")\n",
    "df$k2.cluster <- ifelse(df$k2.cluster==1,\"Perfil 1\", \"Perfil 2\")\n",
    "\n",
    "df_sum <- aggregate(.~k2.cluster, df, mean)\n",
    "df_sum <- melt(df_sum, id.var=c('k2.cluster'))\n",
    "df_sum$value <- round(df_sum$value/100)"
   ]
  },
  {
   "cell_type": "markdown",
   "metadata": {},
   "source": [
    "<h3>Resultados Gráficos</h3>"
   ]
  },
  {
   "cell_type": "markdown",
   "metadata": {},
   "source": [
    "O PCA <a href='http://setosa.io/ev/principal-component-analysis/'>(Principal Component Analysis)</a> é um modo de reduzir a quantidade de dimensões de um base de dados. Nesta aplicação, o método foi utilizado apenas para visualização, monstrando no gráfico abaixo as 6 variáveis em uma plotagem bidimensional."
   ]
  },
  {
   "cell_type": "code",
   "execution_count": 4,
   "metadata": {
    "scrolled": false
   },
   "outputs": [
    {
     "data": {
      "image/png": "[encoded data removed]",
      "text/plain": [
       "plot without title"
      ]
     },
     "metadata": {},
     "output_type": "display_data"
    }
   ],
   "source": [
    "options(repr.plot.width=5.5, repr.plot.height=3.5)\n",
    "\n",
    "fviz_pca_biplot(df_pca, col.ind = df$k2.cluster,\n",
    "                label = \"var\",\n",
    "                col.var = \"black\", repel = TRUE,\n",
    "                addEllipses=TRUE, ellipse.level=0.90) +\n",
    "  labs(title =\"PCA e Segmentação de Clientes via K-Means\" ,x=\"Dim1\", y=\"Dim2\")"
   ]
  },
  {
   "cell_type": "markdown",
   "metadata": {},
   "source": [
    "Os perfis de compra dos clientes foram definidos pelo <a href='https://scikit-learn.org/stable/modules/neighbors.html'>modelo KNN</a>, que analisa as observações mais próximas entre si para criar segmentações.\n",
    "\n",
    "Os testes feitos (e suprimidos nesta analise) indicaram 2 perfis principais de clientes (clusters), mostrados no gráfico acima. Fica bem evidente que os clientes de perfil 1 estão mais para o lado esquerdo do gráfico, onde há maior gasto com produtos congelados e frescos em relação ao perfil 2, enquanto o segundo perfil, no lado direito do gráfico, indica maior compra dos outros segmentos, como laticínios, mercearia, higiene e iguarias.\n",
    "\n",
    "Para analisar esses gastos de forma mais especifica, o gráfico de barra abaixo mostra o valor gasto por perfil e tipo de produto. De fato, o perfil 1 gasta mais com produtos congelados e frescos, enquanto o outros perfil, gasta mais com mercearia e laticínios."
   ]
  },
  {
   "cell_type": "code",
   "execution_count": 5,
   "metadata": {
    "scrolled": false
   },
   "outputs": [
    {
     "data": {
      "image/png": "[encoded data removed]",
      "text/plain": [
       "plot without title"
      ]
     },
     "metadata": {},
     "output_type": "display_data"
    }
   ],
   "source": [
    "ggplot(data=df_sum, aes(x=variable, y=value, fill=variable)) + \n",
    "  geom_bar(stat=\"identity\") + scale_fill_economist() +\n",
    "  facet_grid(~k2.cluster) +\n",
    "  theme(axis.text.x = element_text(angle = 45, hjust = 1),\n",
    "        legend.position = \"none\") +\n",
    "  labs(title =\"Gasto médio por segmento de produtos e perfil de clientes \", y = \"Gasto em cem u.m.\", x = NULL)"
   ]
  },
  {
   "cell_type": "markdown",
   "metadata": {},
   "source": [
    "Apesar de poderosas, aplicações de machine learning não são mágica. O foco do modelo é entregar as relações entre os dados, mas ainda não tem capacidade de interpretar o significado.\n",
    "\n",
    "O perfil 1 e 2 indicados pelo modelo podem ser clientes varejistas e restaurantes ou bares, mas este entendimento parte de pessoas com profundo conhecimento do negócio para poder validar os resultados e gerar insights."
   ]
  }
 ],
 "metadata": {
  "kernelspec": {
   "display_name": "R",
   "language": "R",
   "name": "ir"
  },
  "language_info": {
   "codemirror_mode": "r",
   "file_extension": ".r",
   "mimetype": "text/x-r-source",
   "name": "R",
   "pygments_lexer": "r",
   "version": "3.6.1"
  }
 },
 "nbformat": 4,
 "nbformat_minor": 2
}
